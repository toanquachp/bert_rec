{
  "nbformat": 4,
  "nbformat_minor": 0,
  "metadata": {
    "colab": {
      "name": "Copy of bert4rec_movie_torch.ipynb",
      "provenance": [],
      "collapsed_sections": []
    },
    "kernelspec": {
      "display_name": "Python 3",
      "name": "python3"
    },
    "language_info": {
      "name": "python"
    },
    "widgets": {
      "application/vnd.jupyter.widget-state+json": {
        "ef85a97bf56042e4a9fef3b3b1428cb8": {
          "model_module": "@jupyter-widgets/controls",
          "model_name": "HBoxModel",
          "model_module_version": "1.5.0",
          "state": {
            "_view_name": "HBoxView",
            "_dom_classes": [],
            "_model_name": "HBoxModel",
            "_view_module": "@jupyter-widgets/controls",
            "_model_module_version": "1.5.0",
            "_view_count": null,
            "_view_module_version": "1.5.0",
            "box_style": "",
            "layout": "IPY_MODEL_20d1cce742cf434db8457fca268b2ee9",
            "_model_module": "@jupyter-widgets/controls",
            "children": [
              "IPY_MODEL_3094e100dad941e58c339c1ced6936f4",
              "IPY_MODEL_788f31d1238e406ea07fac7ea441eba3",
              "IPY_MODEL_280d1b1c318f4df7b3dceb4b8a9bd121"
            ]
          }
        },
        "20d1cce742cf434db8457fca268b2ee9": {
          "model_module": "@jupyter-widgets/base",
          "model_name": "LayoutModel",
          "model_module_version": "1.2.0",
          "state": {
            "_view_name": "LayoutView",
            "grid_template_rows": null,
            "right": null,
            "justify_content": null,
            "_view_module": "@jupyter-widgets/base",
            "overflow": null,
            "_model_module_version": "1.2.0",
            "_view_count": null,
            "flex_flow": "row wrap",
            "width": "100%",
            "min_width": null,
            "border": null,
            "align_items": null,
            "bottom": null,
            "_model_module": "@jupyter-widgets/base",
            "top": null,
            "grid_column": null,
            "overflow_y": null,
            "overflow_x": null,
            "grid_auto_flow": null,
            "grid_area": null,
            "grid_template_columns": null,
            "flex": null,
            "_model_name": "LayoutModel",
            "justify_items": null,
            "grid_row": null,
            "max_height": null,
            "align_content": null,
            "visibility": null,
            "align_self": null,
            "height": null,
            "min_height": null,
            "padding": null,
            "grid_auto_rows": null,
            "grid_gap": null,
            "max_width": null,
            "order": null,
            "_view_module_version": "1.2.0",
            "grid_template_areas": null,
            "object_position": null,
            "object_fit": null,
            "grid_auto_columns": null,
            "margin": null,
            "display": "inline-flex",
            "left": null
          }
        },
        "3094e100dad941e58c339c1ced6936f4": {
          "model_module": "@jupyter-widgets/controls",
          "model_name": "HTMLModel",
          "model_module_version": "1.5.0",
          "state": {
            "_view_name": "HTMLView",
            "style": "IPY_MODEL_25e967813f08475eba3e9e0cc9c144fe",
            "_dom_classes": [],
            "description": "",
            "_model_name": "HTMLModel",
            "placeholder": "​",
            "_view_module": "@jupyter-widgets/controls",
            "_model_module_version": "1.5.0",
            "value": "Validation sanity check:   0%",
            "_view_count": null,
            "_view_module_version": "1.5.0",
            "description_tooltip": null,
            "_model_module": "@jupyter-widgets/controls",
            "layout": "IPY_MODEL_f9ef84ea77974409a5bdc1fb0a08648f"
          }
        },
        "788f31d1238e406ea07fac7ea441eba3": {
          "model_module": "@jupyter-widgets/controls",
          "model_name": "FloatProgressModel",
          "model_module_version": "1.5.0",
          "state": {
            "_view_name": "ProgressView",
            "style": "IPY_MODEL_be61f35c01f442c1b9848201c34061a7",
            "_dom_classes": [],
            "description": "",
            "_model_name": "FloatProgressModel",
            "bar_style": "danger",
            "max": 2,
            "_view_module": "@jupyter-widgets/controls",
            "_model_module_version": "1.5.0",
            "value": 0,
            "_view_count": null,
            "_view_module_version": "1.5.0",
            "orientation": "horizontal",
            "min": 0,
            "description_tooltip": null,
            "_model_module": "@jupyter-widgets/controls",
            "layout": "IPY_MODEL_19295b7204574ce09d1b5ad8626eb958"
          }
        },
        "280d1b1c318f4df7b3dceb4b8a9bd121": {
          "model_module": "@jupyter-widgets/controls",
          "model_name": "HTMLModel",
          "model_module_version": "1.5.0",
          "state": {
            "_view_name": "HTMLView",
            "style": "IPY_MODEL_1a17d8a87229427c8415b230396afce8",
            "_dom_classes": [],
            "description": "",
            "_model_name": "HTMLModel",
            "placeholder": "​",
            "_view_module": "@jupyter-widgets/controls",
            "_model_module_version": "1.5.0",
            "value": " 0/2 [00:08&lt;?, ?it/s]",
            "_view_count": null,
            "_view_module_version": "1.5.0",
            "description_tooltip": null,
            "_model_module": "@jupyter-widgets/controls",
            "layout": "IPY_MODEL_fffdaac01f2f4e378d95556db33d1d12"
          }
        },
        "25e967813f08475eba3e9e0cc9c144fe": {
          "model_module": "@jupyter-widgets/controls",
          "model_name": "DescriptionStyleModel",
          "model_module_version": "1.5.0",
          "state": {
            "_view_name": "StyleView",
            "_model_name": "DescriptionStyleModel",
            "description_width": "",
            "_view_module": "@jupyter-widgets/base",
            "_model_module_version": "1.5.0",
            "_view_count": null,
            "_view_module_version": "1.2.0",
            "_model_module": "@jupyter-widgets/controls"
          }
        },
        "f9ef84ea77974409a5bdc1fb0a08648f": {
          "model_module": "@jupyter-widgets/base",
          "model_name": "LayoutModel",
          "model_module_version": "1.2.0",
          "state": {
            "_view_name": "LayoutView",
            "grid_template_rows": null,
            "right": null,
            "justify_content": null,
            "_view_module": "@jupyter-widgets/base",
            "overflow": null,
            "_model_module_version": "1.2.0",
            "_view_count": null,
            "flex_flow": null,
            "width": null,
            "min_width": null,
            "border": null,
            "align_items": null,
            "bottom": null,
            "_model_module": "@jupyter-widgets/base",
            "top": null,
            "grid_column": null,
            "overflow_y": null,
            "overflow_x": null,
            "grid_auto_flow": null,
            "grid_area": null,
            "grid_template_columns": null,
            "flex": null,
            "_model_name": "LayoutModel",
            "justify_items": null,
            "grid_row": null,
            "max_height": null,
            "align_content": null,
            "visibility": null,
            "align_self": null,
            "height": null,
            "min_height": null,
            "padding": null,
            "grid_auto_rows": null,
            "grid_gap": null,
            "max_width": null,
            "order": null,
            "_view_module_version": "1.2.0",
            "grid_template_areas": null,
            "object_position": null,
            "object_fit": null,
            "grid_auto_columns": null,
            "margin": null,
            "display": null,
            "left": null
          }
        },
        "be61f35c01f442c1b9848201c34061a7": {
          "model_module": "@jupyter-widgets/controls",
          "model_name": "ProgressStyleModel",
          "model_module_version": "1.5.0",
          "state": {
            "_view_name": "StyleView",
            "_model_name": "ProgressStyleModel",
            "description_width": "",
            "_view_module": "@jupyter-widgets/base",
            "_model_module_version": "1.5.0",
            "_view_count": null,
            "_view_module_version": "1.2.0",
            "bar_color": null,
            "_model_module": "@jupyter-widgets/controls"
          }
        },
        "19295b7204574ce09d1b5ad8626eb958": {
          "model_module": "@jupyter-widgets/base",
          "model_name": "LayoutModel",
          "model_module_version": "1.2.0",
          "state": {
            "_view_name": "LayoutView",
            "grid_template_rows": null,
            "right": null,
            "justify_content": null,
            "_view_module": "@jupyter-widgets/base",
            "overflow": null,
            "_model_module_version": "1.2.0",
            "_view_count": null,
            "flex_flow": null,
            "width": null,
            "min_width": null,
            "border": null,
            "align_items": null,
            "bottom": null,
            "_model_module": "@jupyter-widgets/base",
            "top": null,
            "grid_column": null,
            "overflow_y": null,
            "overflow_x": null,
            "grid_auto_flow": null,
            "grid_area": null,
            "grid_template_columns": null,
            "flex": "2",
            "_model_name": "LayoutModel",
            "justify_items": null,
            "grid_row": null,
            "max_height": null,
            "align_content": null,
            "visibility": null,
            "align_self": null,
            "height": null,
            "min_height": null,
            "padding": null,
            "grid_auto_rows": null,
            "grid_gap": null,
            "max_width": null,
            "order": null,
            "_view_module_version": "1.2.0",
            "grid_template_areas": null,
            "object_position": null,
            "object_fit": null,
            "grid_auto_columns": null,
            "margin": null,
            "display": null,
            "left": null
          }
        },
        "1a17d8a87229427c8415b230396afce8": {
          "model_module": "@jupyter-widgets/controls",
          "model_name": "DescriptionStyleModel",
          "model_module_version": "1.5.0",
          "state": {
            "_view_name": "StyleView",
            "_model_name": "DescriptionStyleModel",
            "description_width": "",
            "_view_module": "@jupyter-widgets/base",
            "_model_module_version": "1.5.0",
            "_view_count": null,
            "_view_module_version": "1.2.0",
            "_model_module": "@jupyter-widgets/controls"
          }
        },
        "fffdaac01f2f4e378d95556db33d1d12": {
          "model_module": "@jupyter-widgets/base",
          "model_name": "LayoutModel",
          "model_module_version": "1.2.0",
          "state": {
            "_view_name": "LayoutView",
            "grid_template_rows": null,
            "right": null,
            "justify_content": null,
            "_view_module": "@jupyter-widgets/base",
            "overflow": null,
            "_model_module_version": "1.2.0",
            "_view_count": null,
            "flex_flow": null,
            "width": null,
            "min_width": null,
            "border": null,
            "align_items": null,
            "bottom": null,
            "_model_module": "@jupyter-widgets/base",
            "top": null,
            "grid_column": null,
            "overflow_y": null,
            "overflow_x": null,
            "grid_auto_flow": null,
            "grid_area": null,
            "grid_template_columns": null,
            "flex": null,
            "_model_name": "LayoutModel",
            "justify_items": null,
            "grid_row": null,
            "max_height": null,
            "align_content": null,
            "visibility": null,
            "align_self": null,
            "height": null,
            "min_height": null,
            "padding": null,
            "grid_auto_rows": null,
            "grid_gap": null,
            "max_width": null,
            "order": null,
            "_view_module_version": "1.2.0",
            "grid_template_areas": null,
            "object_position": null,
            "object_fit": null,
            "grid_auto_columns": null,
            "margin": null,
            "display": null,
            "left": null
          }
        },
        "69c78e80b604497b8e38d36150baf7c1": {
          "model_module": "@jupyter-widgets/controls",
          "model_name": "HBoxModel",
          "model_module_version": "1.5.0",
          "state": {
            "_view_name": "HBoxView",
            "_dom_classes": [],
            "_model_name": "HBoxModel",
            "_view_module": "@jupyter-widgets/controls",
            "_model_module_version": "1.5.0",
            "_view_count": null,
            "_view_module_version": "1.5.0",
            "box_style": "",
            "layout": "IPY_MODEL_1cca3f3ce3bd4069b0e769a6c8a5aa08",
            "_model_module": "@jupyter-widgets/controls",
            "children": [
              "IPY_MODEL_e456c31af6844fb4a99076a30ffa7b1b",
              "IPY_MODEL_296218f9a6ad436aa16a6671fa3cebb6",
              "IPY_MODEL_ee87a566e6b742d6b479d5f0ff9af3af"
            ]
          }
        },
        "1cca3f3ce3bd4069b0e769a6c8a5aa08": {
          "model_module": "@jupyter-widgets/base",
          "model_name": "LayoutModel",
          "model_module_version": "1.2.0",
          "state": {
            "_view_name": "LayoutView",
            "grid_template_rows": null,
            "right": null,
            "justify_content": null,
            "_view_module": "@jupyter-widgets/base",
            "overflow": null,
            "_model_module_version": "1.2.0",
            "_view_count": null,
            "flex_flow": "row wrap",
            "width": "100%",
            "min_width": null,
            "border": null,
            "align_items": null,
            "bottom": null,
            "_model_module": "@jupyter-widgets/base",
            "top": null,
            "grid_column": null,
            "overflow_y": null,
            "overflow_x": null,
            "grid_auto_flow": null,
            "grid_area": null,
            "grid_template_columns": null,
            "flex": null,
            "_model_name": "LayoutModel",
            "justify_items": null,
            "grid_row": null,
            "max_height": null,
            "align_content": null,
            "visibility": null,
            "align_self": null,
            "height": null,
            "min_height": null,
            "padding": null,
            "grid_auto_rows": null,
            "grid_gap": null,
            "max_width": null,
            "order": null,
            "_view_module_version": "1.2.0",
            "grid_template_areas": null,
            "object_position": null,
            "object_fit": null,
            "grid_auto_columns": null,
            "margin": null,
            "display": "inline-flex",
            "left": null
          }
        },
        "e456c31af6844fb4a99076a30ffa7b1b": {
          "model_module": "@jupyter-widgets/controls",
          "model_name": "HTMLModel",
          "model_module_version": "1.5.0",
          "state": {
            "_view_name": "HTMLView",
            "style": "IPY_MODEL_4319542cf1b8454686f08659c8209bf1",
            "_dom_classes": [],
            "description": "",
            "_model_name": "HTMLModel",
            "placeholder": "​",
            "_view_module": "@jupyter-widgets/controls",
            "_model_module_version": "1.5.0",
            "value": "Epoch 1:   0%",
            "_view_count": null,
            "_view_module_version": "1.5.0",
            "description_tooltip": null,
            "_model_module": "@jupyter-widgets/controls",
            "layout": "IPY_MODEL_6237c291ca6a4b2fac3421dd32d63d5f"
          }
        },
        "296218f9a6ad436aa16a6671fa3cebb6": {
          "model_module": "@jupyter-widgets/controls",
          "model_name": "FloatProgressModel",
          "model_module_version": "1.5.0",
          "state": {
            "_view_name": "ProgressView",
            "style": "IPY_MODEL_0d192d8d7d8040b0942f72023e027a79",
            "_dom_classes": [],
            "description": "",
            "_model_name": "FloatProgressModel",
            "bar_style": "danger",
            "max": 378,
            "_view_module": "@jupyter-widgets/controls",
            "_model_module_version": "1.5.0",
            "value": 0,
            "_view_count": null,
            "_view_module_version": "1.5.0",
            "orientation": "horizontal",
            "min": 0,
            "description_tooltip": null,
            "_model_module": "@jupyter-widgets/controls",
            "layout": "IPY_MODEL_a36f168604564949846c42ad07e96231"
          }
        },
        "ee87a566e6b742d6b479d5f0ff9af3af": {
          "model_module": "@jupyter-widgets/controls",
          "model_name": "HTMLModel",
          "model_module_version": "1.5.0",
          "state": {
            "_view_name": "HTMLView",
            "style": "IPY_MODEL_d6cce7b7685f4eeaa67794984e89cfa1",
            "_dom_classes": [],
            "description": "",
            "_model_name": "HTMLModel",
            "placeholder": "​",
            "_view_module": "@jupyter-widgets/controls",
            "_model_module_version": "1.5.0",
            "value": " 0/378 [00:56&lt;?, ?it/s, loss=7.58, v_num=0]",
            "_view_count": null,
            "_view_module_version": "1.5.0",
            "description_tooltip": null,
            "_model_module": "@jupyter-widgets/controls",
            "layout": "IPY_MODEL_278130084f334f7bba765ca3a84db370"
          }
        },
        "4319542cf1b8454686f08659c8209bf1": {
          "model_module": "@jupyter-widgets/controls",
          "model_name": "DescriptionStyleModel",
          "model_module_version": "1.5.0",
          "state": {
            "_view_name": "StyleView",
            "_model_name": "DescriptionStyleModel",
            "description_width": "",
            "_view_module": "@jupyter-widgets/base",
            "_model_module_version": "1.5.0",
            "_view_count": null,
            "_view_module_version": "1.2.0",
            "_model_module": "@jupyter-widgets/controls"
          }
        },
        "6237c291ca6a4b2fac3421dd32d63d5f": {
          "model_module": "@jupyter-widgets/base",
          "model_name": "LayoutModel",
          "model_module_version": "1.2.0",
          "state": {
            "_view_name": "LayoutView",
            "grid_template_rows": null,
            "right": null,
            "justify_content": null,
            "_view_module": "@jupyter-widgets/base",
            "overflow": null,
            "_model_module_version": "1.2.0",
            "_view_count": null,
            "flex_flow": null,
            "width": null,
            "min_width": null,
            "border": null,
            "align_items": null,
            "bottom": null,
            "_model_module": "@jupyter-widgets/base",
            "top": null,
            "grid_column": null,
            "overflow_y": null,
            "overflow_x": null,
            "grid_auto_flow": null,
            "grid_area": null,
            "grid_template_columns": null,
            "flex": null,
            "_model_name": "LayoutModel",
            "justify_items": null,
            "grid_row": null,
            "max_height": null,
            "align_content": null,
            "visibility": null,
            "align_self": null,
            "height": null,
            "min_height": null,
            "padding": null,
            "grid_auto_rows": null,
            "grid_gap": null,
            "max_width": null,
            "order": null,
            "_view_module_version": "1.2.0",
            "grid_template_areas": null,
            "object_position": null,
            "object_fit": null,
            "grid_auto_columns": null,
            "margin": null,
            "display": null,
            "left": null
          }
        },
        "0d192d8d7d8040b0942f72023e027a79": {
          "model_module": "@jupyter-widgets/controls",
          "model_name": "ProgressStyleModel",
          "model_module_version": "1.5.0",
          "state": {
            "_view_name": "StyleView",
            "_model_name": "ProgressStyleModel",
            "description_width": "",
            "_view_module": "@jupyter-widgets/base",
            "_model_module_version": "1.5.0",
            "_view_count": null,
            "_view_module_version": "1.2.0",
            "bar_color": null,
            "_model_module": "@jupyter-widgets/controls"
          }
        },
        "a36f168604564949846c42ad07e96231": {
          "model_module": "@jupyter-widgets/base",
          "model_name": "LayoutModel",
          "model_module_version": "1.2.0",
          "state": {
            "_view_name": "LayoutView",
            "grid_template_rows": null,
            "right": null,
            "justify_content": null,
            "_view_module": "@jupyter-widgets/base",
            "overflow": null,
            "_model_module_version": "1.2.0",
            "_view_count": null,
            "flex_flow": null,
            "width": null,
            "min_width": null,
            "border": null,
            "align_items": null,
            "bottom": null,
            "_model_module": "@jupyter-widgets/base",
            "top": null,
            "grid_column": null,
            "overflow_y": null,
            "overflow_x": null,
            "grid_auto_flow": null,
            "grid_area": null,
            "grid_template_columns": null,
            "flex": "2",
            "_model_name": "LayoutModel",
            "justify_items": null,
            "grid_row": null,
            "max_height": null,
            "align_content": null,
            "visibility": null,
            "align_self": null,
            "height": null,
            "min_height": null,
            "padding": null,
            "grid_auto_rows": null,
            "grid_gap": null,
            "max_width": null,
            "order": null,
            "_view_module_version": "1.2.0",
            "grid_template_areas": null,
            "object_position": null,
            "object_fit": null,
            "grid_auto_columns": null,
            "margin": null,
            "display": null,
            "left": null
          }
        },
        "d6cce7b7685f4eeaa67794984e89cfa1": {
          "model_module": "@jupyter-widgets/controls",
          "model_name": "DescriptionStyleModel",
          "model_module_version": "1.5.0",
          "state": {
            "_view_name": "StyleView",
            "_model_name": "DescriptionStyleModel",
            "description_width": "",
            "_view_module": "@jupyter-widgets/base",
            "_model_module_version": "1.5.0",
            "_view_count": null,
            "_view_module_version": "1.2.0",
            "_model_module": "@jupyter-widgets/controls"
          }
        },
        "278130084f334f7bba765ca3a84db370": {
          "model_module": "@jupyter-widgets/base",
          "model_name": "LayoutModel",
          "model_module_version": "1.2.0",
          "state": {
            "_view_name": "LayoutView",
            "grid_template_rows": null,
            "right": null,
            "justify_content": null,
            "_view_module": "@jupyter-widgets/base",
            "overflow": null,
            "_model_module_version": "1.2.0",
            "_view_count": null,
            "flex_flow": null,
            "width": null,
            "min_width": null,
            "border": null,
            "align_items": null,
            "bottom": null,
            "_model_module": "@jupyter-widgets/base",
            "top": null,
            "grid_column": null,
            "overflow_y": null,
            "overflow_x": null,
            "grid_auto_flow": null,
            "grid_area": null,
            "grid_template_columns": null,
            "flex": null,
            "_model_name": "LayoutModel",
            "justify_items": null,
            "grid_row": null,
            "max_height": null,
            "align_content": null,
            "visibility": null,
            "align_self": null,
            "height": null,
            "min_height": null,
            "padding": null,
            "grid_auto_rows": null,
            "grid_gap": null,
            "max_width": null,
            "order": null,
            "_view_module_version": "1.2.0",
            "grid_template_areas": null,
            "object_position": null,
            "object_fit": null,
            "grid_auto_columns": null,
            "margin": null,
            "display": null,
            "left": null
          }
        },
        "406cb254c6a44b9cb918283e6fdbc590": {
          "model_module": "@jupyter-widgets/controls",
          "model_name": "HBoxModel",
          "model_module_version": "1.5.0",
          "state": {
            "_view_name": "HBoxView",
            "_dom_classes": [],
            "_model_name": "HBoxModel",
            "_view_module": "@jupyter-widgets/controls",
            "_model_module_version": "1.5.0",
            "_view_count": null,
            "_view_module_version": "1.5.0",
            "box_style": "",
            "layout": "IPY_MODEL_f63c3626c088452f9d84bfca9ee3e0da",
            "_model_module": "@jupyter-widgets/controls",
            "children": [
              "IPY_MODEL_903a5fb6451c443a89db0e319b749e9d",
              "IPY_MODEL_a4c96b0bd2654e4d8f5a028a8b31136f",
              "IPY_MODEL_9d2bf21f242143a5b7511bd6be43c2d1"
            ]
          }
        },
        "f63c3626c088452f9d84bfca9ee3e0da": {
          "model_module": "@jupyter-widgets/base",
          "model_name": "LayoutModel",
          "model_module_version": "1.2.0",
          "state": {
            "_view_name": "LayoutView",
            "grid_template_rows": null,
            "right": null,
            "justify_content": null,
            "_view_module": "@jupyter-widgets/base",
            "overflow": null,
            "_model_module_version": "1.2.0",
            "_view_count": null,
            "flex_flow": "row wrap",
            "width": "100%",
            "min_width": null,
            "border": null,
            "align_items": null,
            "bottom": null,
            "_model_module": "@jupyter-widgets/base",
            "top": null,
            "grid_column": null,
            "overflow_y": null,
            "overflow_x": null,
            "grid_auto_flow": null,
            "grid_area": null,
            "grid_template_columns": null,
            "flex": null,
            "_model_name": "LayoutModel",
            "justify_items": null,
            "grid_row": null,
            "max_height": null,
            "align_content": null,
            "visibility": null,
            "align_self": null,
            "height": null,
            "min_height": null,
            "padding": null,
            "grid_auto_rows": null,
            "grid_gap": null,
            "max_width": null,
            "order": null,
            "_view_module_version": "1.2.0",
            "grid_template_areas": null,
            "object_position": null,
            "object_fit": null,
            "grid_auto_columns": null,
            "margin": null,
            "display": "inline-flex",
            "left": null
          }
        },
        "903a5fb6451c443a89db0e319b749e9d": {
          "model_module": "@jupyter-widgets/controls",
          "model_name": "HTMLModel",
          "model_module_version": "1.5.0",
          "state": {
            "_view_name": "HTMLView",
            "style": "IPY_MODEL_c2878c43993f41fc9d84a157835f411f",
            "_dom_classes": [],
            "description": "",
            "_model_name": "HTMLModel",
            "placeholder": "​",
            "_view_module": "@jupyter-widgets/controls",
            "_model_module_version": "1.5.0",
            "value": "Validating: 100%",
            "_view_count": null,
            "_view_module_version": "1.5.0",
            "description_tooltip": null,
            "_model_module": "@jupyter-widgets/controls",
            "layout": "IPY_MODEL_361394758d2b4d95a2a6ddc098993e6c"
          }
        },
        "a4c96b0bd2654e4d8f5a028a8b31136f": {
          "model_module": "@jupyter-widgets/controls",
          "model_name": "FloatProgressModel",
          "model_module_version": "1.5.0",
          "state": {
            "_view_name": "ProgressView",
            "style": "IPY_MODEL_763af80c151242fda7e97aa7f41f5713",
            "_dom_classes": [],
            "description": "",
            "_model_name": "FloatProgressModel",
            "bar_style": "",
            "max": 189,
            "_view_module": "@jupyter-widgets/controls",
            "_model_module_version": "1.5.0",
            "value": 189,
            "_view_count": null,
            "_view_module_version": "1.5.0",
            "orientation": "horizontal",
            "min": 0,
            "description_tooltip": null,
            "_model_module": "@jupyter-widgets/controls",
            "layout": "IPY_MODEL_fe4c3d1dc0184df49132272d598ee33d"
          }
        },
        "9d2bf21f242143a5b7511bd6be43c2d1": {
          "model_module": "@jupyter-widgets/controls",
          "model_name": "HTMLModel",
          "model_module_version": "1.5.0",
          "state": {
            "_view_name": "HTMLView",
            "style": "IPY_MODEL_5fdb989921de401bb3cf4698816b7582",
            "_dom_classes": [],
            "description": "",
            "_model_name": "HTMLModel",
            "placeholder": "​",
            "_view_module": "@jupyter-widgets/controls",
            "_model_module_version": "1.5.0",
            "value": " 189/189 [02:40&lt;00:00,  1.24it/s]",
            "_view_count": null,
            "_view_module_version": "1.5.0",
            "description_tooltip": null,
            "_model_module": "@jupyter-widgets/controls",
            "layout": "IPY_MODEL_3a283f1c520348038a3e07540d841d70"
          }
        },
        "c2878c43993f41fc9d84a157835f411f": {
          "model_module": "@jupyter-widgets/controls",
          "model_name": "DescriptionStyleModel",
          "model_module_version": "1.5.0",
          "state": {
            "_view_name": "StyleView",
            "_model_name": "DescriptionStyleModel",
            "description_width": "",
            "_view_module": "@jupyter-widgets/base",
            "_model_module_version": "1.5.0",
            "_view_count": null,
            "_view_module_version": "1.2.0",
            "_model_module": "@jupyter-widgets/controls"
          }
        },
        "361394758d2b4d95a2a6ddc098993e6c": {
          "model_module": "@jupyter-widgets/base",
          "model_name": "LayoutModel",
          "model_module_version": "1.2.0",
          "state": {
            "_view_name": "LayoutView",
            "grid_template_rows": null,
            "right": null,
            "justify_content": null,
            "_view_module": "@jupyter-widgets/base",
            "overflow": null,
            "_model_module_version": "1.2.0",
            "_view_count": null,
            "flex_flow": null,
            "width": null,
            "min_width": null,
            "border": null,
            "align_items": null,
            "bottom": null,
            "_model_module": "@jupyter-widgets/base",
            "top": null,
            "grid_column": null,
            "overflow_y": null,
            "overflow_x": null,
            "grid_auto_flow": null,
            "grid_area": null,
            "grid_template_columns": null,
            "flex": null,
            "_model_name": "LayoutModel",
            "justify_items": null,
            "grid_row": null,
            "max_height": null,
            "align_content": null,
            "visibility": null,
            "align_self": null,
            "height": null,
            "min_height": null,
            "padding": null,
            "grid_auto_rows": null,
            "grid_gap": null,
            "max_width": null,
            "order": null,
            "_view_module_version": "1.2.0",
            "grid_template_areas": null,
            "object_position": null,
            "object_fit": null,
            "grid_auto_columns": null,
            "margin": null,
            "display": null,
            "left": null
          }
        },
        "763af80c151242fda7e97aa7f41f5713": {
          "model_module": "@jupyter-widgets/controls",
          "model_name": "ProgressStyleModel",
          "model_module_version": "1.5.0",
          "state": {
            "_view_name": "StyleView",
            "_model_name": "ProgressStyleModel",
            "description_width": "",
            "_view_module": "@jupyter-widgets/base",
            "_model_module_version": "1.5.0",
            "_view_count": null,
            "_view_module_version": "1.2.0",
            "bar_color": null,
            "_model_module": "@jupyter-widgets/controls"
          }
        },
        "fe4c3d1dc0184df49132272d598ee33d": {
          "model_module": "@jupyter-widgets/base",
          "model_name": "LayoutModel",
          "model_module_version": "1.2.0",
          "state": {
            "_view_name": "LayoutView",
            "grid_template_rows": null,
            "right": null,
            "justify_content": null,
            "_view_module": "@jupyter-widgets/base",
            "overflow": null,
            "_model_module_version": "1.2.0",
            "_view_count": null,
            "flex_flow": null,
            "width": null,
            "min_width": null,
            "border": null,
            "align_items": null,
            "bottom": null,
            "_model_module": "@jupyter-widgets/base",
            "top": null,
            "grid_column": null,
            "overflow_y": null,
            "overflow_x": null,
            "grid_auto_flow": null,
            "grid_area": null,
            "grid_template_columns": null,
            "flex": "2",
            "_model_name": "LayoutModel",
            "justify_items": null,
            "grid_row": null,
            "max_height": null,
            "align_content": null,
            "visibility": null,
            "align_self": null,
            "height": null,
            "min_height": null,
            "padding": null,
            "grid_auto_rows": null,
            "grid_gap": null,
            "max_width": null,
            "order": null,
            "_view_module_version": "1.2.0",
            "grid_template_areas": null,
            "object_position": null,
            "object_fit": null,
            "grid_auto_columns": null,
            "margin": null,
            "display": null,
            "left": null
          }
        },
        "5fdb989921de401bb3cf4698816b7582": {
          "model_module": "@jupyter-widgets/controls",
          "model_name": "DescriptionStyleModel",
          "model_module_version": "1.5.0",
          "state": {
            "_view_name": "StyleView",
            "_model_name": "DescriptionStyleModel",
            "description_width": "",
            "_view_module": "@jupyter-widgets/base",
            "_model_module_version": "1.5.0",
            "_view_count": null,
            "_view_module_version": "1.2.0",
            "_model_module": "@jupyter-widgets/controls"
          }
        },
        "3a283f1c520348038a3e07540d841d70": {
          "model_module": "@jupyter-widgets/base",
          "model_name": "LayoutModel",
          "model_module_version": "1.2.0",
          "state": {
            "_view_name": "LayoutView",
            "grid_template_rows": null,
            "right": null,
            "justify_content": null,
            "_view_module": "@jupyter-widgets/base",
            "overflow": null,
            "_model_module_version": "1.2.0",
            "_view_count": null,
            "flex_flow": null,
            "width": null,
            "min_width": null,
            "border": null,
            "align_items": null,
            "bottom": null,
            "_model_module": "@jupyter-widgets/base",
            "top": null,
            "grid_column": null,
            "overflow_y": null,
            "overflow_x": null,
            "grid_auto_flow": null,
            "grid_area": null,
            "grid_template_columns": null,
            "flex": null,
            "_model_name": "LayoutModel",
            "justify_items": null,
            "grid_row": null,
            "max_height": null,
            "align_content": null,
            "visibility": null,
            "align_self": null,
            "height": null,
            "min_height": null,
            "padding": null,
            "grid_auto_rows": null,
            "grid_gap": null,
            "max_width": null,
            "order": null,
            "_view_module_version": "1.2.0",
            "grid_template_areas": null,
            "object_position": null,
            "object_fit": null,
            "grid_auto_columns": null,
            "margin": null,
            "display": null,
            "left": null
          }
        },
        "0421bce5b0f14c49b92969e12b77acc4": {
          "model_module": "@jupyter-widgets/controls",
          "model_name": "HBoxModel",
          "model_module_version": "1.5.0",
          "state": {
            "_view_name": "HBoxView",
            "_dom_classes": [],
            "_model_name": "HBoxModel",
            "_view_module": "@jupyter-widgets/controls",
            "_model_module_version": "1.5.0",
            "_view_count": null,
            "_view_module_version": "1.5.0",
            "box_style": "",
            "layout": "IPY_MODEL_628c17fdf90e47fe8137c3d13aa1b137",
            "_model_module": "@jupyter-widgets/controls",
            "children": [
              "IPY_MODEL_354009174b2a4ca4a78a0f6c896a1666",
              "IPY_MODEL_acb7e53d425c4ff09a600f67f0b3b385",
              "IPY_MODEL_738e71eebc0341ae80d8e68302ede1a1"
            ]
          }
        },
        "628c17fdf90e47fe8137c3d13aa1b137": {
          "model_module": "@jupyter-widgets/base",
          "model_name": "LayoutModel",
          "model_module_version": "1.2.0",
          "state": {
            "_view_name": "LayoutView",
            "grid_template_rows": null,
            "right": null,
            "justify_content": null,
            "_view_module": "@jupyter-widgets/base",
            "overflow": null,
            "_model_module_version": "1.2.0",
            "_view_count": null,
            "flex_flow": "row wrap",
            "width": "100%",
            "min_width": null,
            "border": null,
            "align_items": null,
            "bottom": null,
            "_model_module": "@jupyter-widgets/base",
            "top": null,
            "grid_column": null,
            "overflow_y": null,
            "overflow_x": null,
            "grid_auto_flow": null,
            "grid_area": null,
            "grid_template_columns": null,
            "flex": null,
            "_model_name": "LayoutModel",
            "justify_items": null,
            "grid_row": null,
            "max_height": null,
            "align_content": null,
            "visibility": null,
            "align_self": null,
            "height": null,
            "min_height": null,
            "padding": null,
            "grid_auto_rows": null,
            "grid_gap": null,
            "max_width": null,
            "order": null,
            "_view_module_version": "1.2.0",
            "grid_template_areas": null,
            "object_position": null,
            "object_fit": null,
            "grid_auto_columns": null,
            "margin": null,
            "display": "inline-flex",
            "left": null
          }
        },
        "354009174b2a4ca4a78a0f6c896a1666": {
          "model_module": "@jupyter-widgets/controls",
          "model_name": "HTMLModel",
          "model_module_version": "1.5.0",
          "state": {
            "_view_name": "HTMLView",
            "style": "IPY_MODEL_dd7300ee10dc4988aa500b2f7b1dcc31",
            "_dom_classes": [],
            "description": "",
            "_model_name": "HTMLModel",
            "placeholder": "​",
            "_view_module": "@jupyter-widgets/controls",
            "_model_module_version": "1.5.0",
            "value": "Testing: 100%",
            "_view_count": null,
            "_view_module_version": "1.5.0",
            "description_tooltip": null,
            "_model_module": "@jupyter-widgets/controls",
            "layout": "IPY_MODEL_35ff2cc0c0864015abc78c1cf628a1f5"
          }
        },
        "acb7e53d425c4ff09a600f67f0b3b385": {
          "model_module": "@jupyter-widgets/controls",
          "model_name": "FloatProgressModel",
          "model_module_version": "1.5.0",
          "state": {
            "_view_name": "ProgressView",
            "style": "IPY_MODEL_c49ce409f5c04f7c85c6912e918ff1e8",
            "_dom_classes": [],
            "description": "",
            "_model_name": "FloatProgressModel",
            "bar_style": "success",
            "max": 1,
            "_view_module": "@jupyter-widgets/controls",
            "_model_module_version": "1.5.0",
            "value": 1,
            "_view_count": null,
            "_view_module_version": "1.5.0",
            "orientation": "horizontal",
            "min": 0,
            "description_tooltip": null,
            "_model_module": "@jupyter-widgets/controls",
            "layout": "IPY_MODEL_090c1e6882964eb3b1549ce9acda352f"
          }
        },
        "738e71eebc0341ae80d8e68302ede1a1": {
          "model_module": "@jupyter-widgets/controls",
          "model_name": "HTMLModel",
          "model_module_version": "1.5.0",
          "state": {
            "_view_name": "HTMLView",
            "style": "IPY_MODEL_b2d1338d677f42b7ae6448f535aca60e",
            "_dom_classes": [],
            "description": "",
            "_model_name": "HTMLModel",
            "placeholder": "​",
            "_view_module": "@jupyter-widgets/controls",
            "_model_module_version": "1.5.0",
            "value": " 189/189 [02:39&lt;00:00,  1.25it/s]",
            "_view_count": null,
            "_view_module_version": "1.5.0",
            "description_tooltip": null,
            "_model_module": "@jupyter-widgets/controls",
            "layout": "IPY_MODEL_fb4629f638fa4298a5c61b715e1b7845"
          }
        },
        "dd7300ee10dc4988aa500b2f7b1dcc31": {
          "model_module": "@jupyter-widgets/controls",
          "model_name": "DescriptionStyleModel",
          "model_module_version": "1.5.0",
          "state": {
            "_view_name": "StyleView",
            "_model_name": "DescriptionStyleModel",
            "description_width": "",
            "_view_module": "@jupyter-widgets/base",
            "_model_module_version": "1.5.0",
            "_view_count": null,
            "_view_module_version": "1.2.0",
            "_model_module": "@jupyter-widgets/controls"
          }
        },
        "35ff2cc0c0864015abc78c1cf628a1f5": {
          "model_module": "@jupyter-widgets/base",
          "model_name": "LayoutModel",
          "model_module_version": "1.2.0",
          "state": {
            "_view_name": "LayoutView",
            "grid_template_rows": null,
            "right": null,
            "justify_content": null,
            "_view_module": "@jupyter-widgets/base",
            "overflow": null,
            "_model_module_version": "1.2.0",
            "_view_count": null,
            "flex_flow": null,
            "width": null,
            "min_width": null,
            "border": null,
            "align_items": null,
            "bottom": null,
            "_model_module": "@jupyter-widgets/base",
            "top": null,
            "grid_column": null,
            "overflow_y": null,
            "overflow_x": null,
            "grid_auto_flow": null,
            "grid_area": null,
            "grid_template_columns": null,
            "flex": null,
            "_model_name": "LayoutModel",
            "justify_items": null,
            "grid_row": null,
            "max_height": null,
            "align_content": null,
            "visibility": null,
            "align_self": null,
            "height": null,
            "min_height": null,
            "padding": null,
            "grid_auto_rows": null,
            "grid_gap": null,
            "max_width": null,
            "order": null,
            "_view_module_version": "1.2.0",
            "grid_template_areas": null,
            "object_position": null,
            "object_fit": null,
            "grid_auto_columns": null,
            "margin": null,
            "display": null,
            "left": null
          }
        },
        "c49ce409f5c04f7c85c6912e918ff1e8": {
          "model_module": "@jupyter-widgets/controls",
          "model_name": "ProgressStyleModel",
          "model_module_version": "1.5.0",
          "state": {
            "_view_name": "StyleView",
            "_model_name": "ProgressStyleModel",
            "description_width": "",
            "_view_module": "@jupyter-widgets/base",
            "_model_module_version": "1.5.0",
            "_view_count": null,
            "_view_module_version": "1.2.0",
            "bar_color": null,
            "_model_module": "@jupyter-widgets/controls"
          }
        },
        "090c1e6882964eb3b1549ce9acda352f": {
          "model_module": "@jupyter-widgets/base",
          "model_name": "LayoutModel",
          "model_module_version": "1.2.0",
          "state": {
            "_view_name": "LayoutView",
            "grid_template_rows": null,
            "right": null,
            "justify_content": null,
            "_view_module": "@jupyter-widgets/base",
            "overflow": null,
            "_model_module_version": "1.2.0",
            "_view_count": null,
            "flex_flow": null,
            "width": null,
            "min_width": null,
            "border": null,
            "align_items": null,
            "bottom": null,
            "_model_module": "@jupyter-widgets/base",
            "top": null,
            "grid_column": null,
            "overflow_y": null,
            "overflow_x": null,
            "grid_auto_flow": null,
            "grid_area": null,
            "grid_template_columns": null,
            "flex": "2",
            "_model_name": "LayoutModel",
            "justify_items": null,
            "grid_row": null,
            "max_height": null,
            "align_content": null,
            "visibility": null,
            "align_self": null,
            "height": null,
            "min_height": null,
            "padding": null,
            "grid_auto_rows": null,
            "grid_gap": null,
            "max_width": null,
            "order": null,
            "_view_module_version": "1.2.0",
            "grid_template_areas": null,
            "object_position": null,
            "object_fit": null,
            "grid_auto_columns": null,
            "margin": null,
            "display": null,
            "left": null
          }
        },
        "b2d1338d677f42b7ae6448f535aca60e": {
          "model_module": "@jupyter-widgets/controls",
          "model_name": "DescriptionStyleModel",
          "model_module_version": "1.5.0",
          "state": {
            "_view_name": "StyleView",
            "_model_name": "DescriptionStyleModel",
            "description_width": "",
            "_view_module": "@jupyter-widgets/base",
            "_model_module_version": "1.5.0",
            "_view_count": null,
            "_view_module_version": "1.2.0",
            "_model_module": "@jupyter-widgets/controls"
          }
        },
        "fb4629f638fa4298a5c61b715e1b7845": {
          "model_module": "@jupyter-widgets/base",
          "model_name": "LayoutModel",
          "model_module_version": "1.2.0",
          "state": {
            "_view_name": "LayoutView",
            "grid_template_rows": null,
            "right": null,
            "justify_content": null,
            "_view_module": "@jupyter-widgets/base",
            "overflow": null,
            "_model_module_version": "1.2.0",
            "_view_count": null,
            "flex_flow": null,
            "width": null,
            "min_width": null,
            "border": null,
            "align_items": null,
            "bottom": null,
            "_model_module": "@jupyter-widgets/base",
            "top": null,
            "grid_column": null,
            "overflow_y": null,
            "overflow_x": null,
            "grid_auto_flow": null,
            "grid_area": null,
            "grid_template_columns": null,
            "flex": null,
            "_model_name": "LayoutModel",
            "justify_items": null,
            "grid_row": null,
            "max_height": null,
            "align_content": null,
            "visibility": null,
            "align_self": null,
            "height": null,
            "min_height": null,
            "padding": null,
            "grid_auto_rows": null,
            "grid_gap": null,
            "max_width": null,
            "order": null,
            "_view_module_version": "1.2.0",
            "grid_template_areas": null,
            "object_position": null,
            "object_fit": null,
            "grid_auto_columns": null,
            "margin": null,
            "display": null,
            "left": null
          }
        }
      }
    }
  },
  "cells": [
    {
      "cell_type": "code",
      "metadata": {
        "id": "yLDvRYktXrT4"
      },
      "source": [
        "!pip install pytorch_lightning==1.2.8"
      ],
      "execution_count": null,
      "outputs": []
    },
    {
      "cell_type": "code",
      "metadata": {
        "id": "iN8yICeYDvFk"
      },
      "source": [
        "import pandas as pd\n",
        "import numpy as np\n",
        "import time\n",
        "import datetime\n",
        "import random\n",
        "\n",
        "import torch\n",
        "from torch.utils.data import DataLoader\n",
        "import pytorch_lightning as pl\n",
        "import torch.nn as nn\n",
        "from torch.nn import functional as F\n",
        "\n",
        "from pytorch_lightning.callbacks import ModelCheckpoint\n",
        "from pytorch_lightning.loggers import TensorBoardLogger\n",
        "\n",
        "from recommender import Recommender"
      ],
      "execution_count": 48,
      "outputs": []
    },
    {
      "cell_type": "markdown",
      "metadata": {
        "id": "NPBWIjwRSz9s"
      },
      "source": [
        "# Load and preprocess data"
      ]
    },
    {
      "cell_type": "code",
      "metadata": {
        "id": "sfkAngMOEga1"
      },
      "source": [
        "def map_col(data, col):\n",
        "    unique_values = sorted(list(data[col].unique()))\n",
        "    mapping = {k: i + 2 for i, k in enumerate(unique_values)}\n",
        "    inverse_mapping = {v: k for k, v in mapping.items()}\n",
        "    \n",
        "    data[col + '_mapped'] = data[col].map(mapping)\n",
        "    \n",
        "    return data, mapping, inverse_mapping"
      ],
      "execution_count": 3,
      "outputs": []
    },
    {
      "cell_type": "code",
      "metadata": {
        "id": "dCGl0AoDtivO"
      },
      "source": [
        "data_csv_path = 'ratings.csv'\n",
        "\n",
        "data = pd.read_csv(data_csv_path)\n",
        "\n",
        "data.sort_values(by=\"timestamp\", inplace=True)\n",
        "\n",
        "train_data, mapping, inverse_mapping = map_col(data, \"movieId\")\n",
        "\n",
        "grp_by_train = data.groupby(by=\"userId\")\n",
        "\n",
        "groups = list(grp_by_train.groups)"
      ],
      "execution_count": 5,
      "outputs": []
    },
    {
      "cell_type": "markdown",
      "metadata": {
        "id": "Ql4PBkmFS4Nb"
      },
      "source": [
        "# Build Dataset"
      ]
    },
    {
      "cell_type": "code",
      "metadata": {
        "id": "rM79XM67zgvX"
      },
      "source": [
        "PAD = 0\n",
        "MASK = 1"
      ],
      "execution_count": 6,
      "outputs": []
    },
    {
      "cell_type": "code",
      "metadata": {
        "id": "9gP-DBqVEhmm"
      },
      "source": [
        "def get_context(df: pd.DataFrame, split: str, context_size: int = 120, val_context_size: int = 5):\n",
        "\n",
        "    if split == \"train\":\n",
        "        if df.shape[0] - val_context_size < 10:\n",
        "            end_index = df.shape[0]\n",
        "        else:\n",
        "            end_index = random.randint(10, df.shape[0] - val_context_size)\n",
        "    elif split in [\"val\", \"test\"]:\n",
        "        end_index = df.shape[0]\n",
        "    else:\n",
        "        raise ValueError\n",
        "\n",
        "    start_index = max(0, end_index - context_size)\n",
        "\n",
        "    context = df[start_index:end_index]\n",
        "\n",
        "    return context"
      ],
      "execution_count": 7,
      "outputs": []
    },
    {
      "cell_type": "code",
      "metadata": {
        "id": "CqA-MhBQEieS"
      },
      "source": [
        "def pad_list(list_integers, history_size: int, pad_val: int = PAD, mode=\"left\"):\n",
        "    \n",
        "    if len(list_integers) < history_size:\n",
        "        if mode == \"left\":\n",
        "            list_integers = [pad_val] * (history_size - len(list_integers)) + list_integers\n",
        "        else:\n",
        "            list_integers = list_integers + [pad_val] * (history_size - len(list_integers))\n",
        "\n",
        "    return list_integers"
      ],
      "execution_count": 8,
      "outputs": []
    },
    {
      "cell_type": "code",
      "metadata": {
        "id": "t1vasHBGEjh9"
      },
      "source": [
        "def mask_list(l1, p=0.8):\n",
        "    l1 = [a if random.random() < p else MASK for a in l1]\n",
        "    return l1\n",
        "\n",
        "def mask_last_elements_list(l1, val_context_size: int = 5):\n",
        "    l1 = l1[:-val_context_size] + mask_list(l1[-val_context_size:], p=0.5)\n",
        "    return l1"
      ],
      "execution_count": 9,
      "outputs": []
    },
    {
      "cell_type": "code",
      "metadata": {
        "id": "qEKriRKKEkcn"
      },
      "source": [
        "class Dataset(torch.utils.data.Dataset):\n",
        "    def __init__(self, groups, grp_by, split, history_size=120, col='recipe_id'):\n",
        "        self.col = col\n",
        "        self.groups = groups\n",
        "        self.grp_by = grp_by\n",
        "        self.split = split\n",
        "        self.history_size = history_size\n",
        "\n",
        "    def __len__(self):\n",
        "        return len(self.groups)\n",
        "\n",
        "    def __getitem__(self, idx):\n",
        "        group = self.groups[idx]\n",
        "\n",
        "        df = self.grp_by.get_group(group)\n",
        "\n",
        "        context = get_context(df, split=self.split, context_size=self.history_size)\n",
        "\n",
        "        trg_items = context[f\"{self.col}_mapped\"].tolist()\n",
        "\n",
        "        if self.split == \"train\":\n",
        "            src_items = mask_list(trg_items)\n",
        "        else:\n",
        "            src_items = mask_last_elements_list(trg_items)\n",
        "\n",
        "        pad_mode = \"left\" if random.random() < 0.5 else \"right\"\n",
        "        trg_items = pad_list(trg_items, history_size=self.history_size, mode=pad_mode)\n",
        "        src_items = pad_list(src_items, history_size=self.history_size, mode=pad_mode)\n",
        "\n",
        "        src_items = torch.tensor(src_items, dtype=torch.long)\n",
        "\n",
        "        trg_items = torch.tensor(trg_items, dtype=torch.long)\n",
        "\n",
        "        return src_items, trg_items"
      ],
      "execution_count": 10,
      "outputs": []
    },
    {
      "cell_type": "code",
      "metadata": {
        "id": "K5vKtsB0ElUF"
      },
      "source": [
        "train_data.sort_values(by='timestamp', inplace=True)"
      ],
      "execution_count": 11,
      "outputs": []
    },
    {
      "cell_type": "code",
      "metadata": {
        "id": "YidvtIoYEmjg"
      },
      "source": [
        "train_data, mapping, inverse_mapping = map_col(train_data, \"movieId\")\n",
        "\n",
        "grp_by_train = train_data.groupby(by=\"userId\")\n",
        "groups = list(grp_by_train.groups)"
      ],
      "execution_count": 12,
      "outputs": []
    },
    {
      "cell_type": "code",
      "metadata": {
        "id": "XBso-nJMEnXl"
      },
      "source": [
        "history_size = 120\n",
        "\n",
        "train_data = Dataset(groups=groups,\n",
        "                     grp_by=grp_by_train,\n",
        "                     split=\"train\",\n",
        "                     history_size=history_size,\n",
        "                     col='movieId')\n",
        "\n",
        "val_data = Dataset(groups=groups,\n",
        "                   grp_by=grp_by_train,\n",
        "                   split=\"val\",\n",
        "                   history_size=history_size,\n",
        "                   col='movieId')"
      ],
      "execution_count": 13,
      "outputs": []
    },
    {
      "cell_type": "code",
      "metadata": {
        "colab": {
          "base_uri": "https://localhost:8080/"
        },
        "id": "uLsXAqqAEoOg",
        "outputId": "5eec699e-d29d-4273-c1b6-8ee37c03ba0b"
      },
      "source": [
        "print(\"len(train_data)\", len(train_data))\n",
        "print(\"len(val_data)\", len(val_data))"
      ],
      "execution_count": 14,
      "outputs": [
        {
          "output_type": "stream",
          "text": [
            "len(train_data) 6040\n",
            "len(val_data) 6040\n"
          ],
          "name": "stdout"
        }
      ]
    },
    {
      "cell_type": "code",
      "metadata": {
        "id": "hWi15Ku9EpK0"
      },
      "source": [
        "BATCH_SIZE = 32\n",
        "\n",
        "train_loader = DataLoader(train_data,\n",
        "                          batch_size=BATCH_SIZE,\n",
        "                          num_workers=2,\n",
        "                          shuffle=True,)\n",
        "\n",
        "val_loader = DataLoader(val_data,\n",
        "                        batch_size=BATCH_SIZE,\n",
        "                        num_workers=2,\n",
        "                        shuffle=False,)"
      ],
      "execution_count": 15,
      "outputs": []
    },
    {
      "cell_type": "markdown",
      "metadata": {
        "id": "n-MJleDrS-28"
      },
      "source": [
        "# Build model and model trainer"
      ]
    },
    {
      "cell_type": "code",
      "metadata": {
        "id": "epTzmQk8EqMX"
      },
      "source": [
        "def masked_ce(y_pred, y_true, mask):\n",
        "\n",
        "    loss = F.cross_entropy(y_pred, y_true, reduction='none')\n",
        "\n",
        "    loss = loss * mask\n",
        "\n",
        "    return loss.sum() / (mask.sum() + 1e-8)"
      ],
      "execution_count": 16,
      "outputs": []
    },
    {
      "cell_type": "code",
      "metadata": {
        "id": "tuQ4k_ywEtf2"
      },
      "source": [
        "def masked_accuracy(y_pred: torch.Tensor, y_true: torch.Tensor, mask: torch.Tensor):\n",
        "\n",
        "    _, predicted = torch.max(y_pred, 1)\n",
        "\n",
        "    y_true = torch.masked_select(y_true, mask)\n",
        "    predicted = torch.masked_select(predicted, mask)\n",
        "\n",
        "    acc = (y_true == predicted).double().mean()\n",
        "\n",
        "    return acc\n"
      ],
      "execution_count": 17,
      "outputs": []
    },
    {
      "cell_type": "code",
      "metadata": {
        "id": "bEQEN_cFEvzw"
      },
      "source": [
        "class TrainingModule(pl.LightningModule):\n",
        "  def __init__(self, vocab_size, mask=1, lr=1e-4):\n",
        "    super().__init__()\n",
        "\n",
        "    self.mask = mask\n",
        "    self.lr = lr\n",
        "    self.vocab_size = vocab_size\n",
        "\n",
        "    self.model = Recommender(vocab_size=vocab_size)\n",
        "    \n",
        "  def forward(self, src_items):\n",
        "    return self.model(src_items)\n",
        "\n",
        "  def training_step(self, batch, batch_idx):\n",
        "    src_items, y_true = batch\n",
        "    \n",
        "    y_pred = self(src_items)\n",
        "\n",
        "    y_pred = y_pred.view(-1, y_pred.size(2))\n",
        "    y_true = y_true.view(-1)\n",
        "\n",
        "    src_items = src_items.view(-1)\n",
        "    mask = src_items == self.mask\n",
        "\n",
        "    loss = masked_ce(y_pred=y_pred, y_true=y_true, mask=mask)\n",
        "    accuracy = masked_accuracy(y_pred=y_pred, y_true=y_true, mask=mask)\n",
        "\n",
        "    self.log(\"train_loss\", loss)\n",
        "    self.log(\"train_accuracy\", accuracy)\n",
        "\n",
        "    return loss\n",
        "\n",
        "  def validation_step(self, batch, batch_idx):\n",
        "    src_items, y_true = batch\n",
        "\n",
        "    y_pred = self(src_items)\n",
        "\n",
        "    y_pred = y_pred.view(-1, y_pred.size(2))\n",
        "    y_true = y_true.view(-1)\n",
        "\n",
        "    src_items = src_items.view(-1)\n",
        "    mask = src_items == self.mask\n",
        "\n",
        "    loss = masked_ce(y_pred=y_pred, y_true=y_true, mask=mask)\n",
        "    accuracy = masked_accuracy(y_pred=y_pred, y_true=y_true, mask=mask)\n",
        "\n",
        "    self.log(\"valid_loss\", loss)\n",
        "    self.log(\"valid_accuracy\", accuracy)\n",
        "\n",
        "    return loss\n",
        "\n",
        "  def test_step(self, batch, batch_idx):\n",
        "    src_items, y_true = batch\n",
        "\n",
        "    y_pred = self(src_items)\n",
        "\n",
        "    y_pred = y_pred.view(-1, y_pred.size(2))\n",
        "    y_true = y_true.view(-1)\n",
        "\n",
        "    src_items = src_items.view(-1)\n",
        "    mask = src_items == self.mask\n",
        "\n",
        "    loss = masked_ce(y_pred=y_pred, y_true=y_true, mask=mask)\n",
        "    accuracy = masked_accuracy(y_pred=y_pred, y_true=y_true, mask=mask)\n",
        "\n",
        "    self.log(\"test_loss\", loss)\n",
        "    self.log(\"test_accuracy\", accuracy)\n",
        "\n",
        "    return loss\n",
        "\n",
        "  def configure_optimizers(self):\n",
        "    optimizer = torch.optim.Adam(self.parameters(), lr=self.lr)\n",
        "    scheduler = torch.optim.lr_scheduler.ReduceLROnPlateau(\n",
        "        optimizer, patience=10, factor=0.1\n",
        "    )\n",
        "\n",
        "    return {\n",
        "        'optimizer': optimizer,\n",
        "        'lr_scheduler': scheduler,\n",
        "        'monitor': 'valid_loss'\n",
        "    }"
      ],
      "execution_count": 19,
      "outputs": []
    },
    {
      "cell_type": "code",
      "metadata": {
        "id": "dBwDRdtUEw03"
      },
      "source": [
        "training_module = TrainingModule(vocab_size=len(mapping) + 2, lr=1e-4,)"
      ],
      "execution_count": 20,
      "outputs": []
    },
    {
      "cell_type": "code",
      "metadata": {
        "id": "OxpPQEeZEyac"
      },
      "source": [
        "LOG_DIR = './logger'\n",
        "MODEL_DIR = './model'\n",
        "EPOCHS = 100\n",
        "\n",
        "logger = TensorBoardLogger(\n",
        "    save_dir=LOG_DIR,\n",
        ")\n",
        "\n",
        "checkpoint_callback = ModelCheckpoint(\n",
        "    monitor=\"valid_loss\",\n",
        "    mode=\"min\",\n",
        "    dirpath=MODEL_DIR,\n",
        "    filename=\"recommender\",\n",
        ")"
      ],
      "execution_count": 21,
      "outputs": []
    },
    {
      "cell_type": "code",
      "metadata": {
        "colab": {
          "base_uri": "https://localhost:8080/"
        },
        "id": "LHVGclkHEzWb",
        "outputId": "325ed76f-1222-4372-eb56-b199c07040c9"
      },
      "source": [
        "trainer = pl.Trainer(\n",
        "    max_epochs=EPOCHS,\n",
        "    gpus=0,\n",
        "    logger=logger,\n",
        "    callbacks=[checkpoint_callback],\n",
        ")"
      ],
      "execution_count": 22,
      "outputs": [
        {
          "output_type": "stream",
          "text": [
            "GPU available: False, used: False\n",
            "TPU available: False, using: 0 TPU cores\n"
          ],
          "name": "stderr"
        }
      ]
    },
    {
      "cell_type": "code",
      "metadata": {
        "colab": {
          "base_uri": "https://localhost:8080/",
          "height": 308,
          "referenced_widgets": [
            "ef85a97bf56042e4a9fef3b3b1428cb8",
            "20d1cce742cf434db8457fca268b2ee9",
            "3094e100dad941e58c339c1ced6936f4",
            "788f31d1238e406ea07fac7ea441eba3",
            "280d1b1c318f4df7b3dceb4b8a9bd121",
            "25e967813f08475eba3e9e0cc9c144fe",
            "f9ef84ea77974409a5bdc1fb0a08648f",
            "be61f35c01f442c1b9848201c34061a7",
            "19295b7204574ce09d1b5ad8626eb958",
            "1a17d8a87229427c8415b230396afce8",
            "fffdaac01f2f4e378d95556db33d1d12",
            "69c78e80b604497b8e38d36150baf7c1",
            "1cca3f3ce3bd4069b0e769a6c8a5aa08",
            "e456c31af6844fb4a99076a30ffa7b1b",
            "296218f9a6ad436aa16a6671fa3cebb6",
            "ee87a566e6b742d6b479d5f0ff9af3af",
            "4319542cf1b8454686f08659c8209bf1",
            "6237c291ca6a4b2fac3421dd32d63d5f",
            "0d192d8d7d8040b0942f72023e027a79",
            "a36f168604564949846c42ad07e96231",
            "d6cce7b7685f4eeaa67794984e89cfa1",
            "278130084f334f7bba765ca3a84db370",
            "406cb254c6a44b9cb918283e6fdbc590",
            "f63c3626c088452f9d84bfca9ee3e0da",
            "903a5fb6451c443a89db0e319b749e9d",
            "a4c96b0bd2654e4d8f5a028a8b31136f",
            "9d2bf21f242143a5b7511bd6be43c2d1",
            "c2878c43993f41fc9d84a157835f411f",
            "361394758d2b4d95a2a6ddc098993e6c",
            "763af80c151242fda7e97aa7f41f5713",
            "fe4c3d1dc0184df49132272d598ee33d",
            "5fdb989921de401bb3cf4698816b7582",
            "3a283f1c520348038a3e07540d841d70"
          ]
        },
        "id": "oMoIjFyoE0MZ",
        "outputId": "cdccea8b-1a41-4f46-9ca0-42d96e3aac30"
      },
      "source": [
        "trainer.fit(training_module, train_loader, val_loader)"
      ],
      "execution_count": 23,
      "outputs": [
        {
          "output_type": "stream",
          "text": [
            "\n",
            "  | Name  | Type        | Params\n",
            "--------------------------------------\n",
            "0 | model | Recommender | 4.6 M \n",
            "--------------------------------------\n",
            "4.6 M     Trainable params\n",
            "0         Non-trainable params\n",
            "4.6 M     Total params\n",
            "18.307    Total estimated model params size (MB)\n"
          ],
          "name": "stderr"
        },
        {
          "output_type": "display_data",
          "data": {
            "application/vnd.jupyter.widget-view+json": {
              "model_id": "ef85a97bf56042e4a9fef3b3b1428cb8",
              "version_minor": 0,
              "version_major": 2
            },
            "text/plain": [
              "Validation sanity check: 0it [00:00, ?it/s]"
            ]
          },
          "metadata": {}
        },
        {
          "output_type": "display_data",
          "data": {
            "application/vnd.jupyter.widget-view+json": {
              "model_id": "69c78e80b604497b8e38d36150baf7c1",
              "version_minor": 0,
              "version_major": 2
            },
            "text/plain": [
              "Training: 0it [00:00, ?it/s]"
            ]
          },
          "metadata": {}
        },
        {
          "output_type": "display_data",
          "data": {
            "application/vnd.jupyter.widget-view+json": {
              "model_id": "406cb254c6a44b9cb918283e6fdbc590",
              "version_minor": 0,
              "version_major": 2
            },
            "text/plain": [
              "Validating: 0it [00:00, ?it/s]"
            ]
          },
          "metadata": {}
        },
        {
          "output_type": "stream",
          "text": [
            "/usr/local/lib/python3.7/dist-packages/pytorch_lightning/utilities/distributed.py:68: UserWarning: Detected KeyboardInterrupt, attempting graceful shutdown...\n",
            "  warnings.warn(*args, **kwargs)\n"
          ],
          "name": "stderr"
        },
        {
          "output_type": "execute_result",
          "data": {
            "text/plain": [
              "1"
            ]
          },
          "metadata": {},
          "execution_count": 23
        }
      ]
    },
    {
      "cell_type": "code",
      "metadata": {
        "id": "4HujCLBiE1wd",
        "colab": {
          "base_uri": "https://localhost:8080/",
          "height": 135,
          "referenced_widgets": [
            "0421bce5b0f14c49b92969e12b77acc4",
            "628c17fdf90e47fe8137c3d13aa1b137",
            "354009174b2a4ca4a78a0f6c896a1666",
            "acb7e53d425c4ff09a600f67f0b3b385",
            "738e71eebc0341ae80d8e68302ede1a1",
            "dd7300ee10dc4988aa500b2f7b1dcc31",
            "35ff2cc0c0864015abc78c1cf628a1f5",
            "c49ce409f5c04f7c85c6912e918ff1e8",
            "090c1e6882964eb3b1549ce9acda352f",
            "b2d1338d677f42b7ae6448f535aca60e",
            "fb4629f638fa4298a5c61b715e1b7845"
          ]
        },
        "outputId": "0be1a99c-34e5-4393-9398-0338728c9784"
      },
      "source": [
        "trainer.test(test_dataloaders=val_loader)"
      ],
      "execution_count": 24,
      "outputs": [
        {
          "output_type": "display_data",
          "data": {
            "application/vnd.jupyter.widget-view+json": {
              "model_id": "0421bce5b0f14c49b92969e12b77acc4",
              "version_minor": 0,
              "version_major": 2
            },
            "text/plain": [
              "Testing: 0it [00:00, ?it/s]"
            ]
          },
          "metadata": {}
        },
        {
          "output_type": "stream",
          "text": [
            "--------------------------------------------------------------------------------\n",
            "DATALOADER:0 TEST RESULTS\n",
            "{'test_accuracy': 0.0022183728870004416, 'test_loss': 7.696439743041992}\n",
            "--------------------------------------------------------------------------------\n"
          ],
          "name": "stdout"
        },
        {
          "output_type": "execute_result",
          "data": {
            "text/plain": [
              "[{'test_accuracy': 0.0022183728870004416, 'test_loss': 7.696439743041992}]"
            ]
          },
          "metadata": {},
          "execution_count": 24
        }
      ]
    },
    {
      "cell_type": "markdown",
      "metadata": {
        "id": "R15Q4x4LUCcX"
      },
      "source": [
        "# Recommend movie"
      ]
    },
    {
      "cell_type": "code",
      "metadata": {
        "id": "hi4Dt0kQUB5e"
      },
      "source": [
        "def predict(list_items, model, item_to_idx, idx_to_item, history_size=120):\n",
        "    \n",
        "    ids = [PAD] * (history_size - len(list_items) - 1) + [item_to_idx[a] for a in list_items] + [MASK]\n",
        "    \n",
        "    src = torch.tensor(ids, dtype=torch.long).unsqueeze(0)\n",
        "    \n",
        "    with torch.no_grad():\n",
        "        prediction = model(src)\n",
        "    \n",
        "    masked_pred = prediction[0, -1].numpy()\n",
        "    \n",
        "    sorted_predicted_ids = np.argsort(masked_pred).tolist()[::-1]\n",
        "    \n",
        "    sorted_predicted_ids = [a for a in sorted_predicted_ids if a not in ids]\n",
        "    \n",
        "    return [idx_to_item[a] for a in sorted_predicted_ids[:30] if a in idx_to_item]"
      ],
      "execution_count": 25,
      "outputs": []
    },
    {
      "cell_type": "code",
      "metadata": {
        "id": "hdgY2Ow8ULn7"
      },
      "source": [
        "movies = pd.read_csv('movies.csv')"
      ],
      "execution_count": 26,
      "outputs": []
    },
    {
      "cell_type": "code",
      "metadata": {
        "id": "ShefoOhFUWys"
      },
      "source": [
        "movie_ids = data['movieId'].unique().tolist()\n",
        "movies = movies[movies['movieId'].isin(movie_ids)]"
      ],
      "execution_count": 29,
      "outputs": []
    },
    {
      "cell_type": "code",
      "metadata": {
        "id": "UVVqOPG9U3nL"
      },
      "source": [
        "movie_to_idx = {a: mapping[b] for a, b in zip(movies.title.tolist(), movies.movieId.tolist()) if b in mapping}\n",
        "idx_to_movie = {v: k for k, v in movie_to_idx.items()}"
      ],
      "execution_count": 32,
      "outputs": []
    },
    {
      "cell_type": "code",
      "metadata": {
        "colab": {
          "base_uri": "https://localhost:8080/"
        },
        "id": "tmPOHrTrWIRT",
        "outputId": "0b8c4803-c279-44d7-b438-11c7e25f17b8"
      },
      "source": [
        "list_movies = ['Snow White and the Seven Dwarfs (1937)',\n",
        "               'Cinderella (1950)',\n",
        "               'Beauty and the Beast (1991)',\n",
        "               'Mulan (1998)'\n",
        "               ]\n",
        "\n",
        "top_movie = predict(list_movies, training_module, movie_to_idx, idx_to_movie)\n",
        "top_movie"
      ],
      "execution_count": 49,
      "outputs": [
        {
          "output_type": "execute_result",
          "data": {
            "text/plain": [
              "['Star Wars: Episode I - The Phantom Menace (1999)',\n",
              " 'Saving Private Ryan (1998)',\n",
              " 'Star Wars: Episode IV - A New Hope (1977)',\n",
              " 'American Beauty (1999)',\n",
              " 'Annie Hall (1977)',\n",
              " 'Being John Malkovich (1999)',\n",
              " 'Pulp Fiction (1994)',\n",
              " 'Braveheart (1995)',\n",
              " 'Silence of the Lambs, The (1991)',\n",
              " 'Forrest Gump (1994)',\n",
              " 'Raiders of the Lost Ark (1981)',\n",
              " 'E.T. the Extra-Terrestrial (1982)',\n",
              " 'Total Recall (1990)',\n",
              " 'Men in Black (1997)',\n",
              " 'Lethal Weapon (1987)',\n",
              " 'Jurassic Park (1993)',\n",
              " 'Shawshank Redemption, The (1994)',\n",
              " 'Gladiator (2000)',\n",
              " 'Clerks (1994)',\n",
              " 'Indiana Jones and the Last Crusade (1989)',\n",
              " 'Princess Bride, The (1987)',\n",
              " 'Ghostbusters (1984)',\n",
              " 'Back to the Future (1985)',\n",
              " 'Casablanca (1942)',\n",
              " 'Terminator 2: Judgment Day (1991)',\n",
              " 'Star Wars: Episode VI - Return of the Jedi (1983)',\n",
              " 'Monty Python and the Holy Grail (1974)',\n",
              " 'North by Northwest (1959)',\n",
              " 'Thelma & Louise (1991)',\n",
              " 'As Good As It Gets (1997)']"
            ]
          },
          "metadata": {},
          "execution_count": 49
        }
      ]
    },
    {
      "cell_type": "code",
      "metadata": {
        "colab": {
          "base_uri": "https://localhost:8080/"
        },
        "id": "A12nHXP9Wl5F",
        "outputId": "28f79670-7f0b-4438-e604-3767e24ec7ee"
      },
      "source": [
        "list_movies = ['Star Wars: Episode I - The Phantom Menace (1999)',\n",
        "               'Star Trek: Generations (1994)',\n",
        "               'Star Wars: Episode IV - A New Hope (1977)',\n",
        "               'Star Trek III: The Search for Spock (1984)',\n",
        "               'Star Trek IV: The Voyage Home (1986)',\n",
        "               ]\n",
        "\n",
        "top_movie = predict(list_movies, training_module, movie_to_idx, idx_to_movie)\n",
        "top_movie"
      ],
      "execution_count": 51,
      "outputs": [
        {
          "output_type": "execute_result",
          "data": {
            "text/plain": [
              "['Saving Private Ryan (1998)',\n",
              " 'Silence of the Lambs, The (1991)',\n",
              " 'Braveheart (1995)',\n",
              " 'Pulp Fiction (1994)',\n",
              " 'American Beauty (1999)',\n",
              " 'Ghostbusters (1984)',\n",
              " 'Being John Malkovich (1999)',\n",
              " 'Raiders of the Lost Ark (1981)',\n",
              " 'Princess Bride, The (1987)',\n",
              " 'E.T. the Extra-Terrestrial (1982)',\n",
              " 'Annie Hall (1977)',\n",
              " 'Shawshank Redemption, The (1994)',\n",
              " 'Back to the Future (1985)',\n",
              " 'Abyss, The (1989)',\n",
              " 'Men in Black (1997)',\n",
              " 'Clerks (1994)',\n",
              " 'Star Wars: Episode V - The Empire Strikes Back (1980)',\n",
              " 'Magnolia (1999)',\n",
              " 'North by Northwest (1959)',\n",
              " 'Alien (1979)',\n",
              " 'Jurassic Park (1993)',\n",
              " 'Lethal Weapon (1987)',\n",
              " 'Star Wars: Episode VI - Return of the Jedi (1983)',\n",
              " 'Gladiator (2000)',\n",
              " 'Clueless (1995)',\n",
              " 'Thelma & Louise (1991)',\n",
              " 'Terminator 2: Judgment Day (1991)',\n",
              " \"Schindler's List (1993)\",\n",
              " 'Casablanca (1942)',\n",
              " 'Titanic (1997)']"
            ]
          },
          "metadata": {},
          "execution_count": 51
        }
      ]
    },
    {
      "cell_type": "code",
      "metadata": {
        "id": "Py11nzyMXloM"
      },
      "source": [
        ""
      ],
      "execution_count": null,
      "outputs": []
    }
  ]
}